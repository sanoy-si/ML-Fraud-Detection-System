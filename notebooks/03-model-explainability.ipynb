{
 "cells": [
  {
   "cell_type": "code",
   "execution_count": null,
   "id": "be197aad",
   "metadata": {},
   "outputs": [],
   "source": [
    "import pandas as pd\n",
    "import numpy as np\n",
    "import matplotlib.pyplot as plt\n",
    "import seaborn as sns\n",
    "import shap\n",
    "\n",
    "from sklearn.model_selection import train_test_split\n",
    "from imblearn.over_sampling import SMOTE\n",
    "import xgboost as xgb\n",
    "\n",
    "import warnings\n",
    "warnings.filterwarnings('ignore')\n",
    "sns.set_style('whitegrid')\n",
    "\n",
    "shap.initjs()"
   ]
  },
  {
   "cell_type": "code",
   "execution_count": null,
   "id": "97c3a5d1",
   "metadata": {},
   "outputs": [],
   "source": [
    "ecom_df = pd.read_csv('../data/processed/ecommerce_processed.csv')\n",
    "X_ecom = ecom_df.drop('class', axis=1)\n",
    "y_ecom = ecom_df['class']\n",
    "X_ecom_train, X_ecom_test, y_ecom_train, y_ecom_test = train_test_split(\n",
    "    X_ecom, y_ecom, test_size=0.3, random_state=42, stratify=y_ecom\n",
    ")\n",
    "smote = SMOTE(random_state=42)\n",
    "X_ecom_train_smote, y_ecom_train_smote = smote.fit_resample(X_ecom_train, y_ecom_train)\n",
    "\n",
    "cc_df = pd.read_csv('../data/processed/creditcard_processed.csv')\n",
    "X_cc = cc_df.drop('Class', axis=1)\n",
    "y_cc = cc_df['Class']\n",
    "X_cc_train, X_cc_test, y_cc_train, y_cc_test = train_test_split(\n",
    "    X_cc, y_cc, test_size=0.3, random_state=42, stratify=y_cc\n",
    ")\n",
    "X_cc_train_smote, y_cc_train_smote = smote.fit_resample(X_cc_train, y_cc_train)\n",
    "print(\"Data loading and preparation steps reproduced.\")"
   ]
  },
  {
   "cell_type": "code",
   "execution_count": null,
   "id": "f2f9a3af",
   "metadata": {},
   "outputs": [],
   "source": [
    "xgb_ecom = xgb.XGBClassifier(random_state=42, use_label_encoder=False, eval_metric='logloss')\n",
    "xgb_ecom.fit(X_ecom_train_smote, y_ecom_train_smote)\n",
    "\n",
    "neg_count = y_cc_train.value_counts()[0]\n",
    "pos_count = y_cc_train.value_counts()[1]\n",
    "scale_pos_weight_value = neg_count / pos_count\n",
    "xgb_cc = xgb.XGBClassifier(\n",
    "    random_state=42, use_label_encoder=False, eval_metric='logloss', scale_pos_weight=scale_pos_weight_value\n",
    ")\n",
    "xgb_cc.fit(X_cc_train_smote, y_cc_train_smote)\n",
    "print(\"Best-performing XGBoost models are trained and ready.\")"
   ]
  },
  {
   "cell_type": "code",
   "execution_count": null,
   "id": "42a585ec",
   "metadata": {},
   "outputs": [],
   "source": [
    "print(\"\\n--- Generating SHAP explanations for the E-commerce Model ---\")\n",
    "explainer_ecom = shap.Explainer(xgb_ecom)\n",
    "shap_values_ecom = explainer_ecom(X_ecom_test)"
   ]
  },
  {
   "cell_type": "code",
   "execution_count": null,
   "id": "3df23f79",
   "metadata": {},
   "outputs": [],
   "source": [
    "print(\"\\n--- SHAP Summary Plot for E-commerce Model ---\")\n",
    "shap.summary_plot(shap_values_ecom, X_ecom_test, show=False)\n",
    "plt.title('Feature Importance for E-commerce Fraud Detection', size=14)\n",
    "plt.show()"
   ]
  },
  {
   "cell_type": "code",
   "execution_count": null,
   "id": "1d666b21",
   "metadata": {},
   "outputs": [],
   "source": [
    "true_fraud_indices = np.where(y_ecom_test == 1)[0]\n",
    "fraud_idx = true_fraud_indices[0]\n",
    "print(f\"\\n--- Local Explanation for a Single Fraudulent E-commerce Transaction ---\")\n",
    "shap.force_plot(explainer_ecom.expected_value, shap_values_ecom[fraud_idx], X_ecom_test.iloc[fraud_idx], matplotlib=True, show=False)\n",
    "plt.show()"
   ]
  },
  {
   "cell_type": "code",
   "execution_count": null,
   "id": "8c948748",
   "metadata": {},
   "outputs": [],
   "source": [
    "print(\"\\n\" + \"=\"*50)\n",
    "print(\"\\n--- Generating SHAP explanations for the Credit Card Model ---\")\n",
    "explainer_cc = shap.Explainer(xgb_cc)\n",
    "shap_values_cc = explainer_cc(X_cc_test)"
   ]
  },
  {
   "cell_type": "code",
   "execution_count": null,
   "id": "41c9a0f7",
   "metadata": {},
   "outputs": [],
   "source": [
    "print(\"\\n--- SHAP Summary Plot for Credit Card Model ---\")\n",
    "shap.summary_plot(shap_values_cc, X_cc_test, show=False)\n",
    "plt.title('Feature Importance for Credit Card Fraud Detection', size=14)\n",
    "plt.show()"
   ]
  },
  {
   "cell_type": "code",
   "execution_count": null,
   "id": "9fee64f9",
   "metadata": {},
   "outputs": [],
   "source": [
    "true_fraud_indices_cc = np.where(y_cc_test == 1)[0]\n",
    "fraud_idx_cc = true_fraud_indices_cc[0]\n",
    "print(f\"\\n--- Local Explanation for a Single Fraudulent Credit Card Transaction ---\")\n",
    "shap.force_plot(explainer_cc.expected_value, shap_values_cc[fraud_idx_cc], X_cc_test.iloc[fraud_idx_cc], matplotlib=True, show=False)\n",
    "plt.show()"
   ]
  }
 ],
 "metadata": {
  "language_info": {
   "name": "python"
  }
 },
 "nbformat": 4,
 "nbformat_minor": 5
}
