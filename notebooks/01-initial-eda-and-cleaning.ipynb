{
 "cells": [
  {
   "cell_type": "code",
   "execution_count": null,
   "id": "94db2462",
   "metadata": {},
   "outputs": [],
   "source": [
    "import pandas as pd\n",
    "import numpy as np\n",
    "import seaborn as sns\n",
    "import matplotlib.pyplot as plt\n",
    "\n",
    "pd.set_option('display.max_columns', None)\n",
    "sns.set_style('whitegrid')"
   ]
  },
  {
   "cell_type": "code",
   "execution_count": null,
   "id": "e9ae6dd8",
   "metadata": {},
   "outputs": [],
   "source": [
    "#Load Datasets\n",
    "try:\n",
    "    fraud_data = pd.read_csv('../data/raw/Fraud_Data.csv')\n",
    "    ip_map = pd.read_csv('../data/raw/IpAddress_to_Country.csv')\n",
    "    credit_card = pd.read_csv('../data/raw/creditcard.csv')\n",
    "    print(\"Datasets loaded successfully!\")\n",
    "except FileNotFoundError as e:\n",
    "    print(f\"Error loading datasets: {e}\")\n",
    "    print(\"Please ensure the data files are in the 'data/raw/' directory.\")"
   ]
  },
  {
   "cell_type": "code",
   "execution_count": null,
   "id": "0a085ce7",
   "metadata": {},
   "outputs": [],
   "source": [
    "# Initial Inspection - Fraud_Data.csv\n",
    "print(\"--- Fraud_Data Info ---\")\n",
    "fraud_data.info()\n",
    "print(\"\\n--- First 5 Rows ---\")\n",
    "print(fraud_data.head())\n",
    "print(f\"\\n--- Duplicates: {fraud_data.duplicated().sum()} ---\")"
   ]
  },
  {
   "cell_type": "code",
   "execution_count": null,
   "id": "c01e5430",
   "metadata": {},
   "outputs": [],
   "source": [
    "# Data Cleaning - Fraud_Data.csv\n",
    "# Correcting data types for time columns\n",
    "fraud_data['signup_time'] = pd.to_datetime(fraud_data['signup_time'])\n",
    "fraud_data['purchase_time'] = pd.to_datetime(fraud_data['purchase_time'])\n",
    "print(\"\\n'signup_time' and 'purchase_time' converted to datetime objects.\")\n",
    "\n",
    "# Check for missing values\n",
    "print(f\"\\n--- Missing Values ---\\n{fraud_data.isnull().sum()}\")"
   ]
  },
  {
   "cell_type": "code",
   "execution_count": null,
   "id": "a8de868b",
   "metadata": {},
   "outputs": [],
   "source": [
    "#Initial Inspection - creditcard.csv\n",
    "print(\"\\n\\n--- creditcard.csv Info ---\")\n",
    "credit_card.info()\n",
    "print(\"\\n--- First 5 Rows ---\")\n",
    "print(credit_card.head())\n"
   ]
  },
  {
   "cell_type": "code",
   "execution_count": null,
   "id": "c7857dad",
   "metadata": {},
   "outputs": [],
   "source": [
    "#Data Cleaning - creditcard.csv\n",
    "# Check for missing values\n",
    "print(f\"\\n--- Missing Values ---\\n{credit_card.isnull().sum()}\")\n",
    "\n",
    "# Check for duplicates and remove them\n",
    "num_duplicates = credit_card.duplicated().sum()\n",
    "print(f\"\\n--- Duplicates found: {num_duplicates} ---\")\n",
    "if num_duplicates > 0:\n",
    "    credit_card.drop_duplicates(inplace=True)\n",
    "    print(f\"Removed {num_duplicates} duplicates. New shape: {credit_card.shape}\")\n"
   ]
  },
  {
   "cell_type": "code",
   "execution_count": null,
   "id": "81087db9",
   "metadata": {},
   "outputs": [],
   "source": [
    "# Initial Inspection - IpAddress_to_Country.csv\n",
    "print(\"\\n\\n--- IpAddress_to_Country.csv Info ---\")\n",
    "ip_map.info()\n",
    "print(\"\\n--- First 5 Rows ---\")\n",
    "print(ip_map.head())"
   ]
  }
 ],
 "metadata": {
  "kernelspec": {
   "display_name": "venv",
   "language": "python",
   "name": "python3"
  },
  "language_info": {
   "codemirror_mode": {
    "name": "ipython",
    "version": 3
   },
   "file_extension": ".py",
   "mimetype": "text/x-python",
   "name": "python",
   "nbconvert_exporter": "python",
   "pygments_lexer": "ipython3",
   "version": "3.11.8"
  }
 },
 "nbformat": 4,
 "nbformat_minor": 5
}
