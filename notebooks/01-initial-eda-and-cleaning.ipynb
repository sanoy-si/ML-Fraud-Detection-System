{
 "cells": [
  {
   "cell_type": "code",
   "execution_count": null,
   "id": "94db2462",
   "metadata": {},
   "outputs": [],
   "source": [
    "import pandas as pd\n",
    "import numpy as np\n",
    "import seaborn as sns\n",
    "import matplotlib.pyplot as plt\n",
    "\n",
    "pd.set_option('display.max_columns', None)\n",
    "sns.set_style('whitegrid')"
   ]
  },
  {
   "cell_type": "code",
   "execution_count": null,
   "id": "e9ae6dd8",
   "metadata": {},
   "outputs": [],
   "source": [
    "#Load Datasets\n",
    "try:\n",
    "    fraud_data = pd.read_csv('../data/raw/Fraud_Data.csv')\n",
    "    ip_map = pd.read_csv('../data/raw/IpAddress_to_Country.csv')\n",
    "    credit_card = pd.read_csv('../data/raw/creditcard.csv')\n",
    "    print(\"Datasets loaded successfully!\")\n",
    "except FileNotFoundError as e:\n",
    "    print(f\"Error loading datasets: {e}\")\n",
    "    print(\"Please ensure the data files are in the 'data/raw/' directory.\")"
   ]
  },
  {
   "cell_type": "code",
   "execution_count": null,
   "id": "0a085ce7",
   "metadata": {},
   "outputs": [],
   "source": [
    "# Initial Inspection - Fraud_Data.csv\n",
    "print(\"--- Fraud_Data Info ---\")\n",
    "fraud_data.info()\n",
    "print(\"\\n--- First 5 Rows ---\")\n",
    "print(fraud_data.head())\n",
    "print(f\"\\n--- Duplicates: {fraud_data.duplicated().sum()} ---\")"
   ]
  },
  {
   "cell_type": "code",
   "execution_count": null,
   "id": "c01e5430",
   "metadata": {},
   "outputs": [],
   "source": [
    "# Data Cleaning - Fraud_Data.csv\n",
    "# Correcting data types for time columns\n",
    "fraud_data['signup_time'] = pd.to_datetime(fraud_data['signup_time'])\n",
    "fraud_data['purchase_time'] = pd.to_datetime(fraud_data['purchase_time'])\n",
    "print(\"\\n'signup_time' and 'purchase_time' converted to datetime objects.\")\n",
    "\n",
    "# Check for missing values\n",
    "print(f\"\\n--- Missing Values ---\\n{fraud_data.isnull().sum()}\")"
   ]
  },
  {
   "cell_type": "code",
   "execution_count": null,
   "id": "a8de868b",
   "metadata": {},
   "outputs": [],
   "source": [
    "#Initial Inspection - creditcard.csv\n",
    "print(\"\\n\\n--- creditcard.csv Info ---\")\n",
    "credit_card.info()\n",
    "print(\"\\n--- First 5 Rows ---\")\n",
    "print(credit_card.head())\n"
   ]
  },
  {
   "cell_type": "code",
   "execution_count": null,
   "id": "c7857dad",
   "metadata": {},
   "outputs": [],
   "source": [
    "#Data Cleaning - creditcard.csv\n",
    "# Check for missing values\n",
    "print(f\"\\n--- Missing Values ---\\n{credit_card.isnull().sum()}\")\n",
    "\n",
    "# Check for duplicates and remove them\n",
    "num_duplicates = credit_card.duplicated().sum()\n",
    "print(f\"\\n--- Duplicates found: {num_duplicates} ---\")\n",
    "if num_duplicates > 0:\n",
    "    credit_card.drop_duplicates(inplace=True)\n",
    "    print(f\"Removed {num_duplicates} duplicates. New shape: {credit_card.shape}\")\n"
   ]
  },
  {
   "cell_type": "code",
   "execution_count": null,
   "id": "81087db9",
   "metadata": {},
   "outputs": [],
   "source": [
    "# Initial Inspection - IpAddress_to_Country.csv\n",
    "print(\"\\n\\n--- IpAddress_to_Country.csv Info ---\")\n",
    "ip_map.info()\n",
    "print(\"\\n--- First 5 Rows ---\")\n",
    "print(ip_map.head())"
   ]
  },
  {
   "cell_type": "code",
   "execution_count": null,
   "id": "62c49c00",
   "metadata": {},
   "outputs": [],
   "source": [
    "#EDA - Credit Card Data - Target Variable Distribution\n",
    "print(\"--- Credit Card Data: Class Distribution ---\")\n",
    "class_counts = credit_card['Class'].value_counts()\n",
    "class_perc = credit_card['Class'].value_counts(normalize=True) * 100\n",
    "\n",
    "print(f\"Non-Fraudulent (0): {class_counts[0]} ({class_perc[0]:.4f}%)\")\n",
    "print(f\"Fraudulent (1):     {class_counts[1]} ({class_perc[1]:.4f}%)\")\n",
    "\n",
    "plt.figure(figsize=(8, 6))\n",
    "sns.countplot(x='Class', data=credit_card)\n",
    "plt.title('Credit Card Transaction Class Distribution', fontsize=16)\n",
    "plt.ylabel('Number of Transactions')\n",
    "plt.xlabel('Class (0: Non-Fraud, 1: Fraud)')\n",
    "plt.savefig('../reports/figures/creditcard_class_distribution.png')\n",
    "plt.show()"
   ]
  },
  {
   "cell_type": "code",
   "execution_count": null,
   "id": "8be7e179",
   "metadata": {},
   "outputs": [],
   "source": [
    "#EDA - Credit Card Data - Transaction Amount & Time Analysis\n",
    "fig, axes = plt.subplots(1, 2, figsize=(18, 5))\n",
    "\n",
    "# Plot for Transaction Amount\n",
    "sns.histplot(credit_card['Amount'], bins=50, kde=True, ax=axes[0])\n",
    "axes[0].set_title('Distribution of Transaction Amount')\n",
    "axes[0].set_xlim(0, 1000) # Limiting for better visibility\n",
    "\n",
    "# Plot for Time\n",
    "sns.histplot(credit_card['Time'], bins=50, kde=True, ax=axes[1])\n",
    "axes[1].set_title('Distribution of Transaction Time')\n",
    "\n",
    "plt.suptitle('Amount and Time Distributions', fontsize=16)\n",
    "plt.show()\n",
    "\n",
    "# Compare Amount for Fraud vs. Non-Fraud\n",
    "plt.figure(figsize=(10, 7))\n",
    "sns.boxplot(x='Class', y='Amount', data=credit_card)\n",
    "plt.title('Transaction Amount by Class')\n",
    "plt.ylim(0, 500) # Limiting for better visibility\n",
    "plt.show()"
   ]
  },
  {
   "cell_type": "code",
   "execution_count": null,
   "id": "6a88fbd8",
   "metadata": {},
   "outputs": [],
   "source": [
    "#EDA - E-commerce Data - Target Variable Distribution\n",
    "print(\"\\n--- E-commerce Data: Class Distribution ---\")\n",
    "class_counts_ecom = fraud_data['class'].value_counts()\n",
    "class_perc_ecom = fraud_data['class'].value_counts(normalize=True) * 100\n",
    "\n",
    "print(f\"Non-Fraudulent (0): {class_counts_ecom[0]} ({class_perc_ecom[0]:.2f}%)\")\n",
    "print(f\"Fraudulent (1):     {class_counts_ecom[1]} ({class_perc_ecom[1]:.2f}%)\")\n",
    "\n",
    "plt.figure(figsize=(8, 6))\n",
    "sns.countplot(x='class', data=fraud_data)\n",
    "plt.title('E-commerce Transaction Class Distribution', fontsize=16)\n",
    "plt.savefig('../reports/figures/ecommerce_class_distribution.png')\n",
    "plt.show()"
   ]
  },
  {
   "cell_type": "code",
   "execution_count": null,
   "id": "205b1f99",
   "metadata": {},
   "outputs": [],
   "source": [
    "#EDA - E-commerce Data - Categorical Feature Analysis\n",
    "categorical_features = ['source', 'browser', 'sex']\n",
    "fig, axes = plt.subplots(1, 3, figsize=(22, 6))\n",
    "\n",
    "for i, feature in enumerate(categorical_features):\n",
    "    sns.countplot(x=feature, data=fraud_data, ax=axes[i], order=fraud_data[feature].value_counts().index)\n",
    "    axes[i].set_title(f'Distribution of {feature.capitalize()}')\n",
    "    axes[i].tick_params(axis='x', rotation=45)\n",
    "\n",
    "plt.suptitle('Categorical Feature Distributions', fontsize=16)\n",
    "plt.tight_layout(rect=[0, 0.03, 1, 0.95])\n",
    "plt.savefig('../reports/figures/ecommerce_categorical_distributions.png')\n",
    "plt.show()\n",
    "\n",
    "# Let's analyze fraud rate by category\n",
    "for feature in categorical_features:\n",
    "    fraud_rate = fraud_data.groupby(feature)['class'].mean().sort_values(ascending=False)\n",
    "    print(f\"\\n--- Fraud Rate by {feature.capitalize()} ---\")\n",
    "    print(fraud_rate)"
   ]
  },
  {
   "cell_type": "code",
   "execution_count": null,
   "id": "9488e35e",
   "metadata": {},
   "outputs": [],
   "source": [
    "#Geolocation Merge - IP Address Conversion\n",
    "print(\"--- Starting Geolocation Analysis ---\")\n",
    "\n",
    "def ip_to_integer(ip_address):\n",
    "    \"\"\"Converts a dot-decimal IP string to its integer representation.\"\"\"\n",
    "    try:\n",
    "        parts = ip_address.split('.')\n",
    "        # Formula: a*(256^3) + b*(256^2) + c*(256^1) + d*(256^0)\n",
    "        return int(parts[0]) * 16777216 + int(parts[1]) * 65536 + int(parts[2]) * 256 + int(parts[3])\n",
    "    except:\n",
    "        return np.nan # Return NaN for any malformed IPs\n",
    "\n",
    "# Apply the conversion\n",
    "fraud_data['ip_as_int'] = fraud_data['ip_address'].apply(ip_to_integer)\n",
    "\n",
    "print(f\"IP addresses converted to integer format.\")\n",
    "print(f\"Number of IPs that could not be converted: {fraud_data['ip_as_int'].isnull().sum()}\")\n",
    "\n",
    "print(fraud_data[['ip_address', 'ip_as_int']].head())"
   ]
  },
  {
   "cell_type": "code",
   "execution_count": null,
   "id": "0a9871d0",
   "metadata": {},
   "outputs": [],
   "source": [
    "#Merging Datasets using pd.merge_asof\n",
    "fraud_data_sorted = fraud_data.sort_values('ip_as_int').copy()\n",
    "ip_map_sorted = ip_map.sort_values('lower_bound_ip_address').copy()\n",
    "\n",
    "# Perform the 'asof' merge. \n",
    "merged_data = pd.merge_asof(\n",
    "    left=fraud_data_sorted,\n",
    "    right=ip_map_sorted,\n",
    "    left_on='ip_as_int',\n",
    "    right_on='lower_bound_ip_address',\n",
    "    direction='backward'\n",
    ")\n",
    "\n",
    "final_merged = merged_data[merged_data['ip_as_int'] <= merged_data['upper_bound_ip_address']]\n",
    "\n",
    "print(\"\\n--- Merge Complete ---\")\n",
    "print(f\"Original fraud_data rows: {len(fraud_data)}\")\n",
    "print(f\"Rows after merging and filtering: {len(final_merged)}\")\n",
    "print(f\"Number of IPs not matched to a country: {len(fraud_data) - len(final_merged)}\")\n",
    "\n",
    "# Let's check for any nulls in the new country column\n",
    "print(f\"Nulls in 'country' column: {final_merged['country'].isnull().sum()}\")\n"
   ]
  },
  {
   "cell_type": "code",
   "execution_count": null,
   "id": "f0286b82",
   "metadata": {},
   "outputs": [],
   "source": [
    "#Post-Merge Analysis and Cleanup\n",
    "# Ttop countries for transactions\n",
    "print(\"\\n--- Top 10 Transaction Countries ---\")\n",
    "print(final_merged['country'].value_counts().head(10))\n",
    "\n",
    "# Top countries for FRAUD\n",
    "fraudulent_transactions = final_merged[final_merged['class'] == 1]\n",
    "print(\"\\n--- Top 10 Fraudulent Transaction Countries ---\")\n",
    "print(fraudulent_transactions['country'].value_counts().head(10))\n",
    "\n",
    "# Clean up intermediate columns\n",
    "final_merged = final_merged.drop(columns=['ip_as_int', 'lower_bound_ip_address', 'upper_bound_ip_address'])\n",
    "\n",
    "# Assign the final merged dataframe back to our main variable\n",
    "fraud_data = final_merged.copy()\n",
    "print(\"\\n--- Final Merged Dataframe Head ---\")\n",
    "print(fraud_data.head())"
   ]
  }
 ],
 "metadata": {
  "kernelspec": {
   "display_name": "venv",
   "language": "python",
   "name": "python3"
  },
  "language_info": {
   "codemirror_mode": {
    "name": "ipython",
    "version": 3
   },
   "file_extension": ".py",
   "mimetype": "text/x-python",
   "name": "python",
   "nbconvert_exporter": "python",
   "pygments_lexer": "ipython3",
   "version": "3.11.8"
  }
 },
 "nbformat": 4,
 "nbformat_minor": 5
}
