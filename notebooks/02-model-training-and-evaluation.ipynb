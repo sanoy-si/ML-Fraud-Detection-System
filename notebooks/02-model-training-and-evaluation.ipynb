{
 "cells": [
  {
   "cell_type": "code",
   "execution_count": null,
   "id": "4ca737f0",
   "metadata": {},
   "outputs": [],
   "source": [
    "import pandas as pd\n",
    "import numpy as np\n",
    "import matplotlib.pyplot as plt\n",
    "import seaborn as sns\n",
    "\n",
    "from sklearn.model_selection import train_test_split\n",
    "from imblearn.over_sampling import SMOTE\n",
    "from sklearn.linear_model import LogisticRegression\n",
    "import xgboost as xgb\n",
    "\n",
    "from sklearn.metrics import (\n",
    "    classification_report, \n",
    "    confusion_matrix, \n",
    "    roc_auc_score, \n",
    "    average_precision_score,\n",
    "    precision_recall_curve\n",
    ")\n",
    "\n",
    "import warnings\n",
    "warnings.filterwarnings('ignore')\n",
    "sns.set_style('whitegrid')\n"
   ]
  },
  {
   "cell_type": "code",
   "execution_count": null,
   "id": "932190f3",
   "metadata": {},
   "outputs": [],
   "source": [
    "try:\n",
    "    ecom_df = pd.read_csv('../data/processed/ecommerce_processed.csv')\n",
    "    cc_df = pd.read_csv('../data/processed/creditcard_processed.csv')\n",
    "    print(\"Processed datasets loaded successfully!\")\n",
    "    print(f\"E-commerce data shape: {ecom_df.shape}\")\n",
    "    print(f\"Credit card data shape: {cc_df.shape}\")\n",
    "except FileNotFoundError as e:\n",
    "    print(f\"Error loading datasets: {e}\")\n",
    "    print(\"Please ensure the 'run_preprocessing.py' script or the first notebook has been run successfully.\")"
   ]
  },
  {
   "cell_type": "code",
   "execution_count": null,
   "id": "85af10c7",
   "metadata": {},
   "outputs": [],
   "source": [
    "print(\"--- Preparing E-commerce Data ---\")\n",
    "X_ecom = ecom_df.drop('class', axis=1)\n",
    "y_ecom = ecom_df['class']\n",
    "\n",
    "X_ecom_train, X_ecom_test, y_ecom_train, y_ecom_test = train_test_split(\n",
    "    X_ecom, y_ecom, test_size=0.3, random_state=42, stratify=y_ecom\n",
    ")\n",
    "print(f\"Original train set class distribution:\\n{y_ecom_train.value_counts(normalize=True)}\")\n",
    "\n",
    "smote = SMOTE(random_state=42)\n",
    "X_ecom_train_smote, y_ecom_train_smote = smote.fit_resample(X_ecom_train, y_ecom_train)\n",
    "print(f\"\\nSMOTE-balanced train set class distribution:\\n{y_ecom_train_smote.value_counts(normalize=True)}\")"
   ]
  },
  {
   "cell_type": "code",
   "execution_count": null,
   "id": "43263124",
   "metadata": {},
   "outputs": [],
   "source": [
    "print(\"\\n--- Preparing Credit Card Data ---\")\n",
    "X_cc = cc_df.drop('Class', axis=1)\n",
    "y_cc = cc_df['Class']\n",
    "\n",
    "X_cc_train, X_cc_test, y_cc_train, y_cc_test = train_test_split(\n",
    "    X_cc, y_cc, test_size=0.3, random_state=42, stratify=y_cc\n",
    ")\n",
    "print(f\"Original train set class distribution:\\n{y_cc_train.value_counts(normalize=True)}\")\n",
    "\n",
    "X_cc_train_smote, y_cc_train_smote = smote.fit_resample(X_cc_train, y_cc_train)\n",
    "print(f\"\\nSMOTE-balanced train set class distribution:\\n{y_cc_train_smote.value_counts(normalize=True)}\")"
   ]
  },
  {
   "cell_type": "code",
   "execution_count": null,
   "id": "980b0797",
   "metadata": {},
   "outputs": [],
   "source": [
    "def evaluate_model(model, X_test, y_test, model_name=\"Model\"):\n",
    "    \"\"\"\n",
    "    Calculates and prints key performance metrics for a classification model.\n",
    "    Plots a confusion matrix.\n",
    "    \"\"\"\n",
    "    y_pred = model.predict(X_test)\n",
    "    y_proba = model.predict_proba(X_test)[:, 1]\n",
    "\n",
    "    print(f\"--- Evaluation for: {model_name} ---\")\n",
    "    print(\"\\nClassification Report:\")\n",
    "    print(classification_report(y_test, y_pred, target_names=['Non-Fraud (0)', 'Fraud (1)']))\n",
    "    \n",
    "    auc_pr = average_precision_score(y_test, y_proba)\n",
    "    print(f\"Area Under Precision-Recall Curve (AUC-PR): {auc_pr:.4f}\")\n",
    "    \n",
    "    cm = confusion_matrix(y_test, y_pred)\n",
    "    plt.figure(figsize=(6, 5))\n",
    "    sns.heatmap(cm, annot=True, fmt='d', cmap='Blues', \n",
    "                xticklabels=['Predicted 0', 'Predicted 1'], \n",
    "                yticklabels=['Actual 0', 'Actual 1'])\n",
    "    plt.title(f'Confusion Matrix for {model_name}')\n",
    "    plt.ylabel('Actual Class')\n",
    "    plt.xlabel('Predicted Class')\n",
    "    plt.show()\n",
    "\n",
    "    return auc_pr"
   ]
  },
  {
   "cell_type": "code",
   "execution_count": null,
   "id": "fb2574f7",
   "metadata": {},
   "outputs": [],
   "source": [
    "print(\"--- Training Logistic Regression on E-commerce Data ---\")\n",
    "lr_ecom = LogisticRegression(random_state=42, max_iter=1000)\n",
    "lr_ecom.fit(X_ecom_train_smote, y_ecom_train_smote)\n",
    "\n",
    "lr_auc_pr = evaluate_model(lr_ecom, X_ecom_test, y_ecom_test, \"Logistic Regression (E-commerce)\")\n"
   ]
  },
  {
   "cell_type": "code",
   "execution_count": null,
   "id": "ce67b399",
   "metadata": {},
   "outputs": [],
   "source": [
    "print(\"\\n--- Training XGBoost on E-commerce Data ---\")\n",
    "xgb_ecom = xgb.XGBClassifier(random_state=42, use_label_encoder=False, eval_metric='logloss')\n",
    "xgb_ecom.fit(X_ecom_train_smote, y_ecom_train_smote)\n",
    "\n",
    "xgb_auc_pr = evaluate_model(xgb_ecom, X_ecom_test, y_ecom_test, \"XGBoost (E-commerce)\")"
   ]
  }
 ],
 "metadata": {
  "language_info": {
   "name": "python"
  }
 },
 "nbformat": 4,
 "nbformat_minor": 5
}
