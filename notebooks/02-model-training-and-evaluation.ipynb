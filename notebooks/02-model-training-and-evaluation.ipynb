{
 "cells": [
  {
   "cell_type": "code",
   "execution_count": null,
   "id": "4ca737f0",
   "metadata": {},
   "outputs": [],
   "source": [
    "import pandas as pd\n",
    "import numpy as np\n",
    "import matplotlib.pyplot as plt\n",
    "import seaborn as sns\n",
    "\n",
    "from sklearn.model_selection import train_test_split\n",
    "from imblearn.over_sampling import SMOTE\n",
    "from sklearn.linear_model import LogisticRegression\n",
    "import xgboost as xgb\n",
    "\n",
    "from sklearn.metrics import (\n",
    "    classification_report, \n",
    "    confusion_matrix, \n",
    "    roc_auc_score, \n",
    "    average_precision_score,\n",
    "    precision_recall_curve\n",
    ")\n",
    "\n",
    "import warnings\n",
    "warnings.filterwarnings('ignore')\n",
    "sns.set_style('whitegrid')\n"
   ]
  },
  {
   "cell_type": "code",
   "execution_count": null,
   "id": "932190f3",
   "metadata": {},
   "outputs": [],
   "source": [
    "try:\n",
    "    ecom_df = pd.read_csv('../data/processed/ecommerce_processed.csv')\n",
    "    cc_df = pd.read_csv('../data/processed/creditcard_processed.csv')\n",
    "    print(\"Processed datasets loaded successfully!\")\n",
    "    print(f\"E-commerce data shape: {ecom_df.shape}\")\n",
    "    print(f\"Credit card data shape: {cc_df.shape}\")\n",
    "except FileNotFoundError as e:\n",
    "    print(f\"Error loading datasets: {e}\")\n",
    "    print(\"Please ensure the 'run_preprocessing.py' script or the first notebook has been run successfully.\")"
   ]
  },
  {
   "cell_type": "code",
   "execution_count": null,
   "id": "85af10c7",
   "metadata": {},
   "outputs": [],
   "source": [
    "print(\"--- Preparing E-commerce Data ---\")\n",
    "X_ecom = ecom_df.drop('class', axis=1)\n",
    "y_ecom = ecom_df['class']\n",
    "\n",
    "X_ecom_train, X_ecom_test, y_ecom_train, y_ecom_test = train_test_split(\n",
    "    X_ecom, y_ecom, test_size=0.3, random_state=42, stratify=y_ecom\n",
    ")\n",
    "print(f\"Original train set class distribution:\\n{y_ecom_train.value_counts(normalize=True)}\")\n",
    "\n",
    "smote = SMOTE(random_state=42)\n",
    "X_ecom_train_smote, y_ecom_train_smote = smote.fit_resample(X_ecom_train, y_ecom_train)\n",
    "print(f\"\\nSMOTE-balanced train set class distribution:\\n{y_ecom_train_smote.value_counts(normalize=True)}\")"
   ]
  },
  {
   "cell_type": "code",
   "execution_count": null,
   "id": "43263124",
   "metadata": {},
   "outputs": [],
   "source": [
    "print(\"\\n--- Preparing Credit Card Data ---\")\n",
    "X_cc = cc_df.drop('Class', axis=1)\n",
    "y_cc = cc_df['Class']\n",
    "\n",
    "X_cc_train, X_cc_test, y_cc_train, y_cc_test = train_test_split(\n",
    "    X_cc, y_cc, test_size=0.3, random_state=42, stratify=y_cc\n",
    ")\n",
    "print(f\"Original train set class distribution:\\n{y_cc_train.value_counts(normalize=True)}\")\n",
    "\n",
    "X_cc_train_smote, y_cc_train_smote = smote.fit_resample(X_cc_train, y_cc_train)\n",
    "print(f\"\\nSMOTE-balanced train set class distribution:\\n{y_cc_train_smote.value_counts(normalize=True)}\")"
   ]
  }
 ],
 "metadata": {
  "language_info": {
   "name": "python"
  }
 },
 "nbformat": 4,
 "nbformat_minor": 5
}
